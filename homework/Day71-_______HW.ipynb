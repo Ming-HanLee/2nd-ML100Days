{
 "cells": [
  {
   "cell_type": "markdown",
   "metadata": {
    "colab_type": "text",
    "id": "cj4tE8e8iUtO"
   },
   "source": [
    "#   \n",
    "\n",
    "# 作業目標:\n",
    "\n",
    "    1. 藉由固定的 dataset, 來驗證不同loss function\n",
    "    2. Dataset 的特性跟我們選用的loss function 對accrancy 的影響\n",
    "    \n",
    "    \n",
    "# 作業重點: \n",
    "    請分別選用 \"MSE\", \"binary _crossentropy\"\n",
    "    查看Train/test accurancy and loss rate\n",
    "    "
   ]
  },
  {
   "cell_type": "markdown",
   "metadata": {
    "colab_type": "text",
    "id": "R51J4KyyiUsL"
   },
   "source": [
    "# 導入必要的函數"
   ]
  },
  {
   "cell_type": "code",
   "execution_count": 33,
   "metadata": {
    "colab": {},
    "colab_type": "code",
    "id": "Qd68OQjciUsM"
   },
   "outputs": [],
   "source": [
    "from keras.datasets import cifar10\n",
    "import numpy as np\n",
    "np.random.seed(10)"
   ]
  },
  {
   "cell_type": "markdown",
   "metadata": {
    "colab_type": "text",
    "id": "GxKuzQLQiUsP"
   },
   "source": [
    "# 資料準備"
   ]
  },
  {
   "cell_type": "code",
   "execution_count": 34,
   "metadata": {
    "colab": {},
    "colab_type": "code",
    "id": "MIbFZdTCiUsQ"
   },
   "outputs": [],
   "source": [
    "#取得Keras Dataset\n",
    "(x_img_train,y_label_train),(x_img_test,y_label_test)=cifar10.load_data()"
   ]
  },
  {
   "cell_type": "code",
   "execution_count": 35,
   "metadata": {
    "colab": {},
    "colab_type": "code",
    "id": "J8CJVjNOiUsS"
   },
   "outputs": [
    {
     "name": "stdout",
     "output_type": "stream",
     "text": [
      "train data: images: (50000, 32, 32, 3)  labels: (50000, 1)\n",
      "test  data: images: (10000, 32, 32, 3)  labels: (10000, 1)\n"
     ]
    }
   ],
   "source": [
    "#確認 CIFAR10 Dataset 資料維度\n",
    "print(\"train data:\",'images:',x_img_train.shape,\n",
    "      \" labels:\",y_label_train.shape) \n",
    "print(\"test  data:\",'images:',x_img_test.shape ,\n",
    "      \" labels:\",y_label_test.shape) "
   ]
  },
  {
   "cell_type": "code",
   "execution_count": 36,
   "metadata": {
    "colab": {},
    "colab_type": "code",
    "id": "V3P6P4DXiUsV"
   },
   "outputs": [],
   "source": [
    "#資料正規化\n",
    "x_img_train_normalize = x_img_train.astype('float32') / 255.0\n",
    "x_img_test_normalize = x_img_test.astype('float32') / 255.0"
   ]
  },
  {
   "cell_type": "code",
   "execution_count": 37,
   "metadata": {
    "colab": {},
    "colab_type": "code",
    "id": "vsDyjKYliUsX"
   },
   "outputs": [
    {
     "data": {
      "text/plain": [
       "(10000, 10)"
      ]
     },
     "execution_count": 37,
     "metadata": {},
     "output_type": "execute_result"
    }
   ],
   "source": [
    "#針對Label 做 ONE HOT ENCODE\n",
    "from keras.utils import np_utils\n",
    "y_label_train_OneHot = np_utils.to_categorical(y_label_train)\n",
    "y_label_test_OneHot = np_utils.to_categorical(y_label_test)\n",
    "y_label_test_OneHot.shape"
   ]
  },
  {
   "cell_type": "markdown",
   "metadata": {
    "colab_type": "text",
    "id": "RutW2OtgiUsZ"
   },
   "source": [
    "# 建立模型"
   ]
  },
  {
   "cell_type": "code",
   "execution_count": 38,
   "metadata": {
    "colab": {},
    "colab_type": "code",
    "id": "aHz592aXiUsa"
   },
   "outputs": [],
   "source": [
    "from keras.models import Sequential\n",
    "from keras.layers import Dense, Dropout, Activation, Flatten\n",
    "from keras.layers import Conv2D, MaxPooling2D, ZeroPadding2D"
   ]
  },
  {
   "cell_type": "code",
   "execution_count": 39,
   "metadata": {
    "colab": {},
    "colab_type": "code",
    "id": "hslqrIp0iUse"
   },
   "outputs": [],
   "source": [
    "model = Sequential()"
   ]
  },
  {
   "cell_type": "code",
   "execution_count": 40,
   "metadata": {
    "colab": {},
    "colab_type": "code",
    "id": "Hqe35hs2iUsi"
   },
   "outputs": [],
   "source": [
    "#卷積層1"
   ]
  },
  {
   "cell_type": "code",
   "execution_count": 41,
   "metadata": {
    "colab": {},
    "colab_type": "code",
    "id": "ED7dqe1YiUsm"
   },
   "outputs": [],
   "source": [
    "model.add(Conv2D(filters=32,kernel_size=(3,3),\n",
    "                 input_shape=(32, 32,3), \n",
    "                 activation='relu', \n",
    "                 padding='same'))"
   ]
  },
  {
   "cell_type": "code",
   "execution_count": 42,
   "metadata": {
    "colab": {},
    "colab_type": "code",
    "id": "n-GRKmPViUso"
   },
   "outputs": [],
   "source": [
    "model.add(Dropout(rate=0.25))"
   ]
  },
  {
   "cell_type": "code",
   "execution_count": 43,
   "metadata": {
    "colab": {},
    "colab_type": "code",
    "id": "GlWnnD1uiUsw"
   },
   "outputs": [],
   "source": [
    "model.add(MaxPooling2D(pool_size=(2, 2)))"
   ]
  },
  {
   "cell_type": "code",
   "execution_count": 44,
   "metadata": {
    "colab": {},
    "colab_type": "code",
    "id": "nawlkt55iUsy"
   },
   "outputs": [],
   "source": [
    "#卷積層2與池化層2"
   ]
  },
  {
   "cell_type": "code",
   "execution_count": 45,
   "metadata": {
    "colab": {},
    "colab_type": "code",
    "id": "xxyETiKNiUs1"
   },
   "outputs": [],
   "source": [
    "model.add(Conv2D(filters=64, kernel_size=(3, 3), \n",
    "                 activation='relu', padding='same'))"
   ]
  },
  {
   "cell_type": "code",
   "execution_count": 46,
   "metadata": {
    "colab": {},
    "colab_type": "code",
    "id": "RqcKWtqGiUs2"
   },
   "outputs": [],
   "source": [
    "model.add(Dropout(0.25))"
   ]
  },
  {
   "cell_type": "code",
   "execution_count": 47,
   "metadata": {
    "colab": {},
    "colab_type": "code",
    "id": "BUOOzlqfiUs4"
   },
   "outputs": [],
   "source": [
    "model.add(MaxPooling2D(pool_size=(2, 2)))"
   ]
  },
  {
   "cell_type": "code",
   "execution_count": 48,
   "metadata": {
    "colab": {},
    "colab_type": "code",
    "id": "LpkppB2siUs7"
   },
   "outputs": [],
   "source": [
    "#建立神經網路(平坦層、隱藏層、輸出層)"
   ]
  },
  {
   "cell_type": "code",
   "execution_count": 49,
   "metadata": {
    "colab": {},
    "colab_type": "code",
    "id": "UQOfU54_iUs_"
   },
   "outputs": [],
   "source": [
    "model.add(Flatten())\n",
    "model.add(Dropout(rate=0.25))"
   ]
  },
  {
   "cell_type": "code",
   "execution_count": 50,
   "metadata": {
    "colab": {},
    "colab_type": "code",
    "id": "_NV-8sq4iUtD"
   },
   "outputs": [],
   "source": [
    "model.add(Dense(1024, activation='relu'))\n",
    "model.add(Dropout(rate=0.25))"
   ]
  },
  {
   "cell_type": "code",
   "execution_count": 51,
   "metadata": {
    "colab": {},
    "colab_type": "code",
    "id": "qVK77krOiUtF"
   },
   "outputs": [],
   "source": [
    "model.add(Dense(10, activation='softmax'))"
   ]
  },
  {
   "cell_type": "code",
   "execution_count": 52,
   "metadata": {
    "colab": {},
    "colab_type": "code",
    "id": "ZxzRIjR0iUtH"
   },
   "outputs": [
    {
     "name": "stdout",
     "output_type": "stream",
     "text": [
      "Model: \"sequential_4\"\n",
      "_________________________________________________________________\n",
      "Layer (type)                 Output Shape              Param #   \n",
      "=================================================================\n",
      "conv2d_3 (Conv2D)            (None, 32, 32, 32)        896       \n",
      "_________________________________________________________________\n",
      "dropout_5 (Dropout)          (None, 32, 32, 32)        0         \n",
      "_________________________________________________________________\n",
      "max_pooling2d_3 (MaxPooling2 (None, 16, 16, 32)        0         \n",
      "_________________________________________________________________\n",
      "conv2d_4 (Conv2D)            (None, 16, 16, 64)        18496     \n",
      "_________________________________________________________________\n",
      "dropout_6 (Dropout)          (None, 16, 16, 64)        0         \n",
      "_________________________________________________________________\n",
      "max_pooling2d_4 (MaxPooling2 (None, 8, 8, 64)          0         \n",
      "_________________________________________________________________\n",
      "flatten_2 (Flatten)          (None, 4096)              0         \n",
      "_________________________________________________________________\n",
      "dropout_7 (Dropout)          (None, 4096)              0         \n",
      "_________________________________________________________________\n",
      "dense_3 (Dense)              (None, 1024)              4195328   \n",
      "_________________________________________________________________\n",
      "dropout_8 (Dropout)          (None, 1024)              0         \n",
      "_________________________________________________________________\n",
      "dense_4 (Dense)              (None, 10)                10250     \n",
      "=================================================================\n",
      "Total params: 4,224,970\n",
      "Trainable params: 4,224,970\n",
      "Non-trainable params: 0\n",
      "_________________________________________________________________\n",
      "None\n"
     ]
    }
   ],
   "source": [
    "#檢查model 的STACK\n",
    "print(model.summary())"
   ]
  },
  {
   "cell_type": "code",
   "execution_count": 55,
   "metadata": {},
   "outputs": [],
   "source": [
    "model_mse = Sequential()\n",
    "model_mse = model\n",
    "\n",
    "model_binary = Sequential()\n",
    "model_binary = model"
   ]
  },
  {
   "cell_type": "markdown",
   "metadata": {
    "colab_type": "text",
    "id": "QJCtpJM0iUtJ"
   },
   "source": [
    "# 載入之前訓練的模型"
   ]
  },
  {
   "cell_type": "code",
   "execution_count": 56,
   "metadata": {
    "colab": {},
    "colab_type": "code",
    "id": "JU3A6NzQiUtK"
   },
   "outputs": [
    {
     "name": "stdout",
     "output_type": "stream",
     "text": [
      "載入模型失敗!開始訓練一個新模型\n"
     ]
    }
   ],
   "source": [
    "try:\n",
    "    model.load_weights(\"SaveModel/cifarCnnModel.h5\")\n",
    "    print(\"載入模型成功!繼續訓練模型\")\n",
    "except :    \n",
    "    print(\"載入模型失敗!開始訓練一個新模型\")"
   ]
  },
  {
   "cell_type": "markdown",
   "metadata": {
    "colab_type": "text",
    "id": "qBbCuziziUtM"
   },
   "source": [
    "# 訓練模型"
   ]
  },
  {
   "cell_type": "code",
   "execution_count": 57,
   "metadata": {
    "colab": {},
    "colab_type": "code",
    "id": "Q6BiBcseiUtP"
   },
   "outputs": [
    {
     "name": "stdout",
     "output_type": "stream",
     "text": [
      "Train on 37500 samples, validate on 12500 samples\n",
      "Epoch 1/10\n",
      "37500/37500 [==============================] - 36s 965us/step - loss: 2.1438 - accuracy: 0.2124 - val_loss: 2.0258 - val_accuracy: 0.3210\n",
      "Epoch 2/10\n",
      "37500/37500 [==============================] - 36s 950us/step - loss: 1.9199 - accuracy: 0.3146 - val_loss: 1.9213 - val_accuracy: 0.3579\n",
      "Epoch 3/10\n",
      "37500/37500 [==============================] - 36s 963us/step - loss: 1.7823 - accuracy: 0.3728 - val_loss: 1.7880 - val_accuracy: 0.4114\n",
      "Epoch 4/10\n",
      "37500/37500 [==============================] - 36s 963us/step - loss: 1.6880 - accuracy: 0.3984 - val_loss: 1.7052 - val_accuracy: 0.4386\n",
      "Epoch 5/10\n",
      "37500/37500 [==============================] - 36s 951us/step - loss: 1.6133 - accuracy: 0.4220 - val_loss: 1.6329 - val_accuracy: 0.4579\n",
      "Epoch 6/10\n",
      "37500/37500 [==============================] - 36s 956us/step - loss: 1.5478 - accuracy: 0.4448 - val_loss: 1.5875 - val_accuracy: 0.4707\n",
      "Epoch 7/10\n",
      "37500/37500 [==============================] - 35s 930us/step - loss: 1.5028 - accuracy: 0.4611 - val_loss: 1.5503 - val_accuracy: 0.4798\n",
      "Epoch 8/10\n",
      "37500/37500 [==============================] - 35s 943us/step - loss: 1.4648 - accuracy: 0.4752 - val_loss: 1.4994 - val_accuracy: 0.4958\n",
      "Epoch 9/10\n",
      "37500/37500 [==============================] - 36s 956us/step - loss: 1.4292 - accuracy: 0.4887 - val_loss: 1.4537 - val_accuracy: 0.5179\n",
      "Epoch 10/10\n",
      "37500/37500 [==============================] - 35s 939us/step - loss: 1.4072 - accuracy: 0.4948 - val_loss: 1.4353 - val_accuracy: 0.5237\n"
     ]
    }
   ],
   "source": [
    "model.compile(loss='categorical_crossentropy', optimizer='sgd', metrics=['accuracy'])\n",
    "\n",
    "train_history_categorical = model.fit(x_img_train_normalize, y_label_train_OneHot, validation_split=0.25, epochs=10, batch_size=128, verbose=1)"
   ]
  },
  {
   "cell_type": "code",
   "execution_count": 59,
   "metadata": {
    "colab": {},
    "colab_type": "code",
    "id": "4-GdDgmQiUtS"
   },
   "outputs": [
    {
     "name": "stdout",
     "output_type": "stream",
     "text": [
      "Train on 37500 samples, validate on 12500 samples\n",
      "Epoch 1/10\n",
      "37500/37500 [==============================] - 39s 1ms/step - loss: 0.0625 - accuracy: 0.5123 - val_loss: 0.0648 - val_accuracy: 0.5258\n",
      "Epoch 2/10\n",
      "37500/37500 [==============================] - 38s 1ms/step - loss: 0.0623 - accuracy: 0.5141 - val_loss: 0.0646 - val_accuracy: 0.5276\n",
      "Epoch 3/10\n",
      "37500/37500 [==============================] - 37s 991us/step - loss: 0.0624 - accuracy: 0.5115 - val_loss: 0.0645 - val_accuracy: 0.5309\n",
      "Epoch 4/10\n",
      "37500/37500 [==============================] - 37s 989us/step - loss: 0.0622 - accuracy: 0.5151 - val_loss: 0.0644 - val_accuracy: 0.5305\n",
      "Epoch 5/10\n",
      "37500/37500 [==============================] - 37s 990us/step - loss: 0.0621 - accuracy: 0.5180 - val_loss: 0.0644 - val_accuracy: 0.5302\n",
      "Epoch 6/10\n",
      "37500/37500 [==============================] - 38s 1ms/step - loss: 0.0621 - accuracy: 0.5157 - val_loss: 0.0644 - val_accuracy: 0.5313\n",
      "Epoch 7/10\n",
      "37500/37500 [==============================] - 37s 996us/step - loss: 0.0621 - accuracy: 0.5156 - val_loss: 0.0642 - val_accuracy: 0.5329\n",
      "Epoch 8/10\n",
      "37500/37500 [==============================] - 37s 997us/step - loss: 0.0620 - accuracy: 0.5167 - val_loss: 0.0642 - val_accuracy: 0.5321\n",
      "Epoch 9/10\n",
      "37500/37500 [==============================] - 37s 995us/step - loss: 0.0619 - accuracy: 0.5161 - val_loss: 0.0641 - val_accuracy: 0.5334\n",
      "Epoch 10/10\n",
      "37500/37500 [==============================] - 37s 994us/step - loss: 0.0618 - accuracy: 0.5211 - val_loss: 0.0641 - val_accuracy: 0.5350\n"
     ]
    }
   ],
   "source": [
    "model.compile(loss='MSE', optimizer='sgd', metrics=['accuracy'])\n",
    "\n",
    "train_history_mse = model.fit(x_img_train_normalize, y_label_train_OneHot, validation_split=0.25, epochs=10, batch_size=128, verbose=1)"
   ]
  },
  {
   "cell_type": "code",
   "execution_count": 60,
   "metadata": {},
   "outputs": [
    {
     "name": "stdout",
     "output_type": "stream",
     "text": [
      "Train on 37500 samples, validate on 12500 samples\n",
      "Epoch 1/10\n",
      "37500/37500 [==============================] - 37s 995us/step - loss: 0.2098 - accuracy: 0.9181 - val_loss: 0.2188 - val_accuracy: 0.9124\n",
      "Epoch 2/10\n",
      "37500/37500 [==============================] - 37s 988us/step - loss: 0.2095 - accuracy: 0.9178 - val_loss: 0.2178 - val_accuracy: 0.9130\n",
      "Epoch 3/10\n",
      "37500/37500 [==============================] - 37s 989us/step - loss: 0.2084 - accuracy: 0.9185 - val_loss: 0.2177 - val_accuracy: 0.9129\n",
      "Epoch 4/10\n",
      "37500/37500 [==============================] - 37s 982us/step - loss: 0.2080 - accuracy: 0.9186 - val_loss: 0.2169 - val_accuracy: 0.9133\n",
      "Epoch 5/10\n",
      "37500/37500 [==============================] - 37s 983us/step - loss: 0.2077 - accuracy: 0.9185 - val_loss: 0.2163 - val_accuracy: 0.9133\n",
      "Epoch 6/10\n",
      "37500/37500 [==============================] - 37s 979us/step - loss: 0.2070 - accuracy: 0.9190 - val_loss: 0.2157 - val_accuracy: 0.9138\n",
      "Epoch 7/10\n",
      "37500/37500 [==============================] - 37s 979us/step - loss: 0.2067 - accuracy: 0.9191 - val_loss: 0.2154 - val_accuracy: 0.9140\n",
      "Epoch 8/10\n",
      "37500/37500 [==============================] - 37s 982us/step - loss: 0.2062 - accuracy: 0.9192 - val_loss: 0.2156 - val_accuracy: 0.9141\n",
      "Epoch 9/10\n",
      "37500/37500 [==============================] - 37s 981us/step - loss: 0.2059 - accuracy: 0.9194 - val_loss: 0.2150 - val_accuracy: 0.9138\n",
      "Epoch 10/10\n",
      "37500/37500 [==============================] - 37s 981us/step - loss: 0.2049 - accuracy: 0.9195 - val_loss: 0.2151 - val_accuracy: 0.9137\n"
     ]
    }
   ],
   "source": [
    "model.compile(loss='binary_crossentropy', optimizer='sgd', metrics=['accuracy'])\n",
    "\n",
    "train_history_binary = model.fit(x_img_train_normalize, y_label_train_OneHot, validation_split=0.25, epochs=10, batch_size=128, verbose=1)"
   ]
  },
  {
   "cell_type": "markdown",
   "metadata": {},
   "source": [
    "# Plot Accuracy / Loss"
   ]
  },
  {
   "cell_type": "code",
   "execution_count": 63,
   "metadata": {},
   "outputs": [],
   "source": [
    "import matplotlib.pyplot as plt\n",
    "\n",
    "def show_train_history(train_history, train_index, valid_index):\n",
    "    plt.plot(train_history.history[train_index])\n",
    "    plt.plot(train_history.history[valid_index])\n",
    "    plt.title(\"Train History\")\n",
    "    plt.xlabel(\"epoch\")\n",
    "    plt.ylabel(train_index)\n",
    "    plt.legend(['train' + train_index, 'valid' + valid_index], loc='upper left')\n",
    "    plt.show()"
   ]
  },
  {
   "cell_type": "code",
   "execution_count": 64,
   "metadata": {},
   "outputs": [
    {
     "data": {
      "image/png": "[encoded data removed]",
      "text/plain": [
       "<Figure size 432x288 with 1 Axes>"
      ]
     },
     "metadata": {
      "needs_background": "light"
     },
     "output_type": "display_data"
    },
    {
     "data": {
      "image/png": "[encoded data removed]",
      "text/plain": [
       "<Figure size 432x288 with 1 Axes>"
      ]
     },
     "metadata": {
      "needs_background": "light"
     },
     "output_type": "display_data"
    }
   ],
   "source": [
    "show_train_history(train_history_categorical, 'accuracy', 'val_accuracy')\n",
    "\n",
    "show_train_history(train_history_categorical, 'loss', 'val_loss')"
   ]
  },
  {
   "cell_type": "code",
   "execution_count": 65,
   "metadata": {},
   "outputs": [
    {
     "data": {
      "image/png": "[encoded data removed]",
      "text/plain": [
       "<Figure size 432x288 with 1 Axes>"
      ]
     },
     "metadata": {
      "needs_background": "light"
     },
     "output_type": "display_data"
    },
    {
     "data": {
      "image/png": "[encoded data removed]",
      "text/plain": [
       "<Figure size 432x288 with 1 Axes>"
      ]
     },
     "metadata": {
      "needs_background": "light"
     },
     "output_type": "display_data"
    }
   ],
   "source": [
    "show_train_history(train_history_mse, 'accuracy', 'val_accuracy')\n",
    "\n",
    "show_train_history(train_history_mse, 'loss', 'val_loss')"
   ]
  },
  {
   "cell_type": "code",
   "execution_count": 66,
   "metadata": {},
   "outputs": [
    {
     "data": {
      "image/png": "[encoded data removed]",
      "text/plain": [
       "<Figure size 432x288 with 1 Axes>"
      ]
     },
     "metadata": {
      "needs_background": "light"
     },
     "output_type": "display_data"
    },
    {
     "data": {
      "image/png": "[encoded data removed]",
      "text/plain": [
       "<Figure size 432x288 with 1 Axes>"
      ]
     },
     "metadata": {
      "needs_background": "light"
     },
     "output_type": "display_data"
    }
   ],
   "source": [
    "show_train_history(train_history_binary, 'accuracy', 'val_accuracy')\n",
    "\n",
    "show_train_history(train_history_binary, 'loss', 'val_loss')"
   ]
  },
  {
   "cell_type": "code",
   "execution_count": null,
   "metadata": {},
   "outputs": [],
   "source": []
  }
 ],
 "metadata": {
  "colab": {
   "name": "Day71-使用損失函數_HW.ipynb",
   "provenance": [],
   "version": "0.3.2"
  },
  "kernelspec": {
   "display_name": "Python 3",
   "language": "python",
   "name": "python3"
  },
  "language_info": {
   "codemirror_mode": {
    "name": "ipython",
    "version": 3
   },
   "file_extension": ".py",
   "mimetype": "text/x-python",
   "name": "python",
   "nbconvert_exporter": "python",
   "pygments_lexer": "ipython3",
   "version": "3.7.3"
  }
 },
 "nbformat": 4,
 "nbformat_minor": 1
}
