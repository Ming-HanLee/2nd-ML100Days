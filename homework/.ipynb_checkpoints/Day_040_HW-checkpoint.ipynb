{
 "cells": [
  {
   "cell_type": "markdown",
   "metadata": {},
   "source": [
    "## [作業重點]\n",
    "使用 Sklearn 中的 Lasso, Ridge 模型，來訓練各種資料集，務必了解送進去模型訓練的**資料型態**為何，也請了解模型中各項參數的意義。\n",
    "\n",
    "機器學習的模型非常多種，但要訓練的資料多半有固定的格式，確保你了解訓練資料的格式為何，這樣在應用新模型時，就能夠最快的上手開始訓練！"
   ]
  },
  {
   "cell_type": "markdown",
   "metadata": {},
   "source": [
    "## 練習時間\n",
    "試著使用 sklearn datasets 的其他資料集 (boston, ...)，來訓練自己的線性迴歸模型，並加上適當的正則話來觀察訓練情形。"
   ]
  },
  {
   "cell_type": "code",
   "execution_count": 2,
   "metadata": {},
   "outputs": [],
   "source": [
    "from sklearn import datasets, linear_model\n",
    "from sklearn.model_selection import train_test_split\n",
    "from sklearn.metrics import mean_squared_error, r2_score\n",
    "import matplotlib as plt"
   ]
  },
  {
   "cell_type": "markdown",
   "metadata": {},
   "source": [
    "# Boston house prices"
   ]
  },
  {
   "cell_type": "markdown",
   "metadata": {},
   "source": [
    "## Linear Regression"
   ]
  },
  {
   "cell_type": "code",
   "execution_count": 10,
   "metadata": {},
   "outputs": [],
   "source": [
    "#load boston house prices\n",
    "boston = datasets.load_boston()\n",
    "\n",
    "#choose LinearRegression as model\n",
    "model = linear_model.LinearRegression()\n",
    "\n",
    "#split datasets\n",
    "train_x, test_x, train_y, test_y = train_test_split(boston.data, boston.target, test_size = 0.2, random_state=50)\n",
    "\n",
    "#train model\n",
    "model.fit(train_x,train_y)\n",
    "\n",
    "#output predictions\n",
    "pred_y = model.predict(test_x)"
   ]
  },
  {
   "cell_type": "code",
   "execution_count": 11,
   "metadata": {},
   "outputs": [
    {
     "name": "stdout",
     "output_type": "stream",
     "text": [
      "[-1.04683734e-01  3.94173679e-02  5.97497992e-02  8.49189549e-01\n",
      " -2.11417205e+01  4.18935210e+00  6.15729868e-03 -1.45337348e+00\n",
      "  2.97609192e-01 -1.36194161e-02 -1.09117880e+00  7.84352525e-03\n",
      " -4.77003618e-01]\n"
     ]
    }
   ],
   "source": [
    "#print parameters\n",
    "print(model.coef_)"
   ]
  },
  {
   "cell_type": "code",
   "execution_count": 12,
   "metadata": {},
   "outputs": [
    {
     "name": "stdout",
     "output_type": "stream",
     "text": [
      "MSE:  26.345537363313255\n"
     ]
    }
   ],
   "source": [
    "#estimate results using MSE\n",
    "mse = mean_squared_error(test_y, pred_y)\n",
    "print(\"MSE: \",mse)"
   ]
  },
  {
   "cell_type": "markdown",
   "metadata": {},
   "source": [
    "## Lasso"
   ]
  },
  {
   "cell_type": "code",
   "execution_count": 13,
   "metadata": {},
   "outputs": [],
   "source": [
    "#load boston house prices\n",
    "boston = datasets.load_boston()\n",
    "\n",
    "#choose Lasso as model\n",
    "model = linear_model.Lasso(alpha=0.1)\n",
    "\n",
    "#split data\n",
    "train_x, test_x, train_y, test_y = train_test_split(boston.data, boston.target, test_size = 0.2, random_state = 50)\n",
    "\n",
    "#train model\n",
    "model.fit(train_x, train_y)\n",
    "\n",
    "#output predictions\n",
    "pred_y = model.predict(test_x)"
   ]
  },
  {
   "cell_type": "code",
   "execution_count": 14,
   "metadata": {},
   "outputs": [
    {
     "name": "stdout",
     "output_type": "stream",
     "text": [
      "[-0.09483679  0.04416047 -0.03124816  0.         -0.          4.01467036\n",
      " -0.0086486  -1.09777583  0.25624902 -0.01533924 -0.82410951  0.00892732\n",
      " -0.52440814]\n"
     ]
    }
   ],
   "source": [
    "print(model.coef_)"
   ]
  },
  {
   "cell_type": "code",
   "execution_count": 15,
   "metadata": {},
   "outputs": [
    {
     "name": "stdout",
     "output_type": "stream",
     "text": [
      "MSE:  26.111094255523888\n"
     ]
    }
   ],
   "source": [
    "#estimate results using MSE\n",
    "mse = mean_squared_error(test_y, pred_y)\n",
    "print(\"MSE: \",mse)"
   ]
  },
  {
   "cell_type": "markdown",
   "metadata": {},
   "source": [
    "## Ridge"
   ]
  },
  {
   "cell_type": "code",
   "execution_count": 16,
   "metadata": {},
   "outputs": [],
   "source": [
    "#load boston house prices\n",
    "boston = datasets.load_boston()\n",
    "\n",
    "#choose Ridge as model\n",
    "model = linear_model.Ridge(alpha=0.1)\n",
    "\n",
    "#split data\n",
    "train_x, test_x, train_y, test_y = train_test_split(boston.data, boston.target, test_size = 0.2, random_state = 50)\n",
    "\n",
    "#train model\n",
    "model.fit(train_x, train_y)\n",
    "\n",
    "#output predictions\n",
    "pred_y = model.predict(test_x)"
   ]
  },
  {
   "cell_type": "code",
   "execution_count": 17,
   "metadata": {},
   "outputs": [
    {
     "name": "stdout",
     "output_type": "stream",
     "text": [
      "[-1.04142933e-01  3.97853604e-02  5.20529819e-02  8.13896830e-01\n",
      " -1.95106441e+01  4.19570577e+00  4.71873414e-03 -1.43039468e+00\n",
      "  2.94349949e-01 -1.37339482e-02 -1.07051552e+00  7.93915393e-03\n",
      " -4.79163800e-01]\n"
     ]
    }
   ],
   "source": [
    "print(model.coef_)"
   ]
  },
  {
   "cell_type": "code",
   "execution_count": 18,
   "metadata": {
    "scrolled": true
   },
   "outputs": [
    {
     "name": "stdout",
     "output_type": "stream",
     "text": [
      "MSE:  26.180522797817183\n"
     ]
    }
   ],
   "source": [
    "#estimate results using MSE\n",
    "mse = mean_squared_error(test_y, pred_y)\n",
    "print(\"MSE: \",mse)"
   ]
  },
  {
   "cell_type": "markdown",
   "metadata": {},
   "source": [
    "# Digits"
   ]
  },
  {
   "cell_type": "markdown",
   "metadata": {},
   "source": [
    "## Logistic Regression"
   ]
  },
  {
   "cell_type": "code",
   "execution_count": 28,
   "metadata": {},
   "outputs": [],
   "source": [
    "#load digits\n",
    "digits = datasets.load_digits()\n",
    "\n",
    "#choose LogisticRegression as model\n",
    "model = linear_model.LogisticRegression(solver='newton-cg', multi_class = 'auto')\n",
    "\n",
    "#split data\n",
    "train_x, test_x, train_y, test_y = train_test_split(digits.data, digits.target, test_size = 0.2, random_state = 50)\n",
    "\n",
    "#train model\n",
    "model.fit(train_x, train_y)\n",
    "\n",
    "#output predictions\n",
    "pred_y = model.predict(test_x)"
   ]
  },
  {
   "cell_type": "code",
   "execution_count": 29,
   "metadata": {},
   "outputs": [
    {
     "name": "stdout",
     "output_type": "stream",
     "text": [
      "[ 0.00000000e+00  9.47702005e-02  3.92641853e-01 -1.33691559e-01\n",
      "  2.14034660e-01  3.56282360e-01  3.71994066e-01 -5.35771883e-02\n",
      "  1.13649042e-10 -8.60383063e-02  2.06834233e-01  2.28760245e-01\n",
      " -1.93293934e-02 -1.78322143e-01  3.66125229e-02 -4.60211479e-02\n",
      " -3.93574693e-05  8.72150231e-02  1.53686598e-01 -2.74985330e-02\n",
      " -3.45175101e-01 -3.74258423e-01 -4.54945703e-01 -3.15241507e-03\n",
      " -1.96778787e-05  2.00768156e-01  2.86816657e-01 -1.94924207e-01\n",
      "  1.32151375e-01  7.81310512e-02 -2.97639081e-01  1.96758311e-10\n",
      "  0.00000000e+00 -7.11910618e-02  1.67748310e-01 -1.66772811e-01\n",
      " -5.42351912e-02 -3.60503602e-02  7.28909147e-02  0.00000000e+00\n",
      "  1.24276455e-09 -2.62538664e-01 -2.45304101e-01 -2.75809319e-01\n",
      "  4.48815666e-03  9.93862447e-02 -4.90220706e-03 -1.51604434e-06\n",
      " -6.50073483e-09  1.07525762e-02  6.84350021e-02 -9.06886573e-02\n",
      " -5.66141486e-02  7.45482763e-02 -9.96266305e-02 -6.17527843e-04\n",
      " -2.44765031e-09  6.09364754e-03  3.64992763e-01  1.57458506e-01\n",
      "  1.19375548e-01 -7.06009184e-02 -1.55515257e-01 -3.80254003e-03]\n"
     ]
    }
   ],
   "source": [
    "print(model.coef_[5,:])"
   ]
  },
  {
   "cell_type": "code",
   "execution_count": 30,
   "metadata": {},
   "outputs": [
    {
     "name": "stdout",
     "output_type": "stream",
     "text": [
      "R2 score:  0.9048303027365694\n"
     ]
    }
   ],
   "source": [
    "#estimate results using r2_score\n",
    "r2 = r2_score(test_y, pred_y)\n",
    "print(\"R2 score: \",r2)"
   ]
  },
  {
   "cell_type": "markdown",
   "metadata": {},
   "source": [
    "## Logistic Regression + L1"
   ]
  },
  {
   "cell_type": "code",
   "execution_count": 33,
   "metadata": {},
   "outputs": [
    {
     "name": "stderr",
     "output_type": "stream",
     "text": [
      "C:\\Users\\super\\Anaconda3\\lib\\site-packages\\sklearn\\linear_model\\sag.py:334: ConvergenceWarning: The max_iter was reached which means the coef_ did not converge\n",
      "  \"the coef_ did not converge\", ConvergenceWarning)\n"
     ]
    }
   ],
   "source": [
    "#load digits\n",
    "digits = datasets.load_digits()\n",
    "\n",
    "#choose LogisticRegression as model\n",
    "model = linear_model.LogisticRegression(penalty='l1', solver='saga', multi_class = 'auto')\n",
    "\n",
    "#split data\n",
    "train_x, test_x, train_y, test_y = train_test_split(digits.data, digits.target, test_size = 0.2, random_state = 50)\n",
    "\n",
    "#train model\n",
    "model.fit(train_x, train_y)\n",
    "\n",
    "#output predictions\n",
    "pred_y = model.predict(test_x)"
   ]
  },
  {
   "cell_type": "code",
   "execution_count": 35,
   "metadata": {},
   "outputs": [
    {
     "name": "stdout",
     "output_type": "stream",
     "text": [
      "[ 0.          0.00858534  0.25876208 -0.10181078  0.0896842   0.26174407\n",
      "  0.24805634  0.          0.         -0.01906403  0.11820098  0.04995701\n",
      "  0.         -0.11659272 -0.00680237  0.          0.          0.02825414\n",
      "  0.06821369  0.         -0.28815475 -0.31317311 -0.30654113  0.\n",
      "  0.          0.15619902  0.14960207 -0.10904818  0.11329716  0.\n",
      " -0.17793854  0.          0.         -0.01512827  0.07689159 -0.08302198\n",
      " -0.04630707  0.          0.02424572  0.          0.         -0.13254394\n",
      " -0.17710086 -0.20153528 -0.03826623  0.02656154  0.          0.\n",
      "  0.          0.          0.00432603 -0.04944445  0.          0.06277552\n",
      " -0.05204361  0.          0.          0.          0.23131394  0.06945842\n",
      "  0.01105474 -0.04751548 -0.09900964  0.        ]\n"
     ]
    }
   ],
   "source": [
    "print(model.coef_[5,:])"
   ]
  },
  {
   "cell_type": "code",
   "execution_count": 36,
   "metadata": {},
   "outputs": [
    {
     "name": "stdout",
     "output_type": "stream",
     "text": [
      "R2 score:  0.9333812119155986\n"
     ]
    }
   ],
   "source": [
    "#estimate results using r2_score\n",
    "r2 = r2_score(test_y, pred_y)\n",
    "print(\"R2 score: \",r2)"
   ]
  },
  {
   "cell_type": "markdown",
   "metadata": {},
   "source": [
    "## Logistic Regression + L2"
   ]
  },
  {
   "cell_type": "code",
   "execution_count": 38,
   "metadata": {},
   "outputs": [],
   "source": [
    "#load digits\n",
    "digits = datasets.load_digits()\n",
    "\n",
    "#choose LogisticRegression as model\n",
    "model = linear_model.LogisticRegression(penalty='l2', solver='newton-cg', multi_class = 'auto')\n",
    "\n",
    "#split data\n",
    "train_x, test_x, train_y, test_y = train_test_split(digits.data, digits.target, test_size = 0.2, random_state = 50)\n",
    "\n",
    "#train model\n",
    "model.fit(train_x, train_y)\n",
    "\n",
    "#output predictions\n",
    "pred_y = model.predict(test_x)"
   ]
  },
  {
   "cell_type": "code",
   "execution_count": 39,
   "metadata": {},
   "outputs": [
    {
     "name": "stdout",
     "output_type": "stream",
     "text": [
      "[ 0.00000000e+00  9.47702005e-02  3.92641853e-01 -1.33691559e-01\n",
      "  2.14034660e-01  3.56282360e-01  3.71994066e-01 -5.35771883e-02\n",
      "  1.13649042e-10 -8.60383063e-02  2.06834233e-01  2.28760245e-01\n",
      " -1.93293934e-02 -1.78322143e-01  3.66125229e-02 -4.60211479e-02\n",
      " -3.93574693e-05  8.72150231e-02  1.53686598e-01 -2.74985330e-02\n",
      " -3.45175101e-01 -3.74258423e-01 -4.54945703e-01 -3.15241507e-03\n",
      " -1.96778787e-05  2.00768156e-01  2.86816657e-01 -1.94924207e-01\n",
      "  1.32151375e-01  7.81310512e-02 -2.97639081e-01  1.96758311e-10\n",
      "  0.00000000e+00 -7.11910618e-02  1.67748310e-01 -1.66772811e-01\n",
      " -5.42351912e-02 -3.60503602e-02  7.28909147e-02  0.00000000e+00\n",
      "  1.24276455e-09 -2.62538664e-01 -2.45304101e-01 -2.75809319e-01\n",
      "  4.48815666e-03  9.93862447e-02 -4.90220706e-03 -1.51604434e-06\n",
      " -6.50073483e-09  1.07525762e-02  6.84350021e-02 -9.06886573e-02\n",
      " -5.66141486e-02  7.45482763e-02 -9.96266305e-02 -6.17527843e-04\n",
      " -2.44765031e-09  6.09364754e-03  3.64992763e-01  1.57458506e-01\n",
      "  1.19375548e-01 -7.06009184e-02 -1.55515257e-01 -3.80254003e-03]\n"
     ]
    }
   ],
   "source": [
    "print(model.coef_[5,:])"
   ]
  },
  {
   "cell_type": "code",
   "execution_count": 40,
   "metadata": {},
   "outputs": [
    {
     "name": "stdout",
     "output_type": "stream",
     "text": [
      "R2 score:  0.9048303027365694\n"
     ]
    }
   ],
   "source": [
    "#estimate results using r2_score\n",
    "r2 = r2_score(test_y, pred_y)\n",
    "print(\"R2 score: \",r2)"
   ]
  },
  {
   "cell_type": "code",
   "execution_count": null,
   "metadata": {},
   "outputs": [],
   "source": []
  }
 ],
 "metadata": {
  "kernelspec": {
   "display_name": "Python 3",
   "language": "python",
   "name": "python3"
  },
  "language_info": {
   "codemirror_mode": {
    "name": "ipython",
    "version": 3
   },
   "file_extension": ".py",
   "mimetype": "text/x-python",
   "name": "python",
   "nbconvert_exporter": "python",
   "pygments_lexer": "ipython3",
   "version": "3.7.3"
  }
 },
 "nbformat": 4,
 "nbformat_minor": 2
}
